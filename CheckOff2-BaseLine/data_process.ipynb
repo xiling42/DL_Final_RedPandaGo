{
 "cells": [
  {
   "cell_type": "code",
   "execution_count": 1,
   "metadata": {
    "colab": {},
    "colab_type": "code",
    "id": "7wB0GpU2RXja"
   },
   "outputs": [],
   "source": [
    "import h5py\n",
    "import numpy as np\n",
    "import scipy.io\n",
    "import collections"
   ]
  },
  {
   "cell_type": "code",
   "execution_count": 3,
   "metadata": {
    "colab": {
     "base_uri": "https://localhost:8080/",
     "height": 34
    },
    "colab_type": "code",
    "executionInfo": {
     "elapsed": 1602,
     "status": "ok",
     "timestamp": 1574650003692,
     "user": {
      "displayName": "Xiling Zhang",
      "photoUrl": "https://lh3.googleusercontent.com/a-/AAuE7mAm5fvgcELfXuhSiMkRj9XY_3xf8tkCHxC1t5Wq=s64",
      "userId": "05688530799783834648"
     },
     "user_tz": 300
    },
    "id": "vd-jN72aLhOG",
    "outputId": "55739dd2-a523-4eaa-f2df-3697b8a65153"
   },
   "outputs": [],
   "source": [
    "train_file = 'train.mat'\n",
    "valid_file = 'valid.mat'\n",
    "noutputs=919\n",
    "tr_size = 4400000\n",
    "te_size = 4000 "
   ]
  },
  {
   "cell_type": "markdown",
   "metadata": {},
   "source": [
    "Read data fron hdf5 file"
   ]
  },
  {
   "cell_type": "code",
   "execution_count": 7,
   "metadata": {
    "colab": {},
    "colab_type": "code",
    "id": "M7Isegl3N15R"
   },
   "outputs": [
    {
     "name": "stderr",
     "output_type": "stream",
     "text": [
      "/Users/suzy/anaconda3/envs/py3/lib/python3.5/site-packages/ipykernel_launcher.py:1: H5pyDeprecationWarning: The default file mode will change to 'r' (read-only) in h5py 3.0. To suppress this warning, pass the mode you need to h5py.File(), or set the global default h5.get_config().default_file_mode, or set the environment variable H5PY_DEFAULT_READONLY=1. Available modes are: 'r', 'r+', 'w', 'w-'/'x', 'a'. See the docs for details.\n",
      "  \"\"\"Entry point for launching an IPython kernel.\n"
     ]
    }
   ],
   "source": [
    "f_train = h5py.File('../deepsea_train1/train.mat')"
   ]
  },
  {
   "cell_type": "markdown",
   "metadata": {},
   "source": [
    "train data contains two categories of data, 'traindata' for train labels,  'trainxdata' for train data"
   ]
  },
  {
   "cell_type": "code",
   "execution_count": 5,
   "metadata": {
    "colab": {
     "base_uri": "https://localhost:8080/",
     "height": 34
    },
    "colab_type": "code",
    "executionInfo": {
     "elapsed": 835,
     "status": "ok",
     "timestamp": 1574650089636,
     "user": {
      "displayName": "Xiling Zhang",
      "photoUrl": "https://lh3.googleusercontent.com/a-/AAuE7mAm5fvgcELfXuhSiMkRj9XY_3xf8tkCHxC1t5Wq=s64",
      "userId": "05688530799783834648"
     },
     "user_tz": 300
    },
    "id": "qgJFmpLPbicD",
    "outputId": "346a4f2d-d43d-4063-fd79-e4f59324f905"
   },
   "outputs": [
    {
     "name": "stdout",
     "output_type": "stream",
     "text": [
      "['traindata', 'trainxdata']\n"
     ]
    }
   ],
   "source": [
    "print(list(f_train.keys()))\n"
   ]
  },
  {
   "cell_type": "markdown",
   "metadata": {},
   "source": [
    "Read train data into numpy array <br>\n",
    "Original data format is (1000, 4, 4400000) <br>\n",
    "Transpose it into (4400000, 4, 1000) "
   ]
  },
  {
   "cell_type": "code",
   "execution_count": 8,
   "metadata": {
    "colab": {},
    "colab_type": "code",
    "id": "CGVvyFobdjr_"
   },
   "outputs": [],
   "source": [
    "data = f_train.get('trainxdata')\n",
    "data = np.array(data)\n",
    "datatemp = data\n",
    "reshape_data = np.transpose(datatemp,(2,1,0))"
   ]
  },
  {
   "cell_type": "markdown",
   "metadata": {},
   "source": [
    "Save data into 440 subfiles, each contains 10000 records of data"
   ]
  },
  {
   "cell_type": "code",
   "execution_count": 9,
   "metadata": {
    "colab": {},
    "colab_type": "code",
    "id": "P1c5V5PPej1u"
   },
   "outputs": [],
   "source": [
    "batch = 10000\n",
    "for i in range(440):\n",
    "    start = i*batch\n",
    "    end = (i+1)*batch\n",
    "    data_name = \"./processed_data/reshape_data\"+\"_\"+str(start)+\"_\"+str(end)\n",
    "    np.save(data_name, reshape_data[start:end])"
   ]
  },
  {
   "cell_type": "markdown",
   "metadata": {
    "colab_type": "text",
    "id": "qy9Q9B-qSLUC"
   },
   "source": [
    "Read labels into numpy array, transpose and save into subfiles.\n"
   ]
  },
  {
   "cell_type": "code",
   "execution_count": 20,
   "metadata": {},
   "outputs": [],
   "source": [
    "labels = f_train.get('traindata')\n",
    "labels = np.array(labels)\n",
    "labelstemp = labels\n",
    "reshape_labels = np.transpose(labelstemp,(1,0))"
   ]
  },
  {
   "cell_type": "code",
   "execution_count": 21,
   "metadata": {},
   "outputs": [],
   "source": [
    "batch = 10000\n",
    "for i in range(440):\n",
    "    start = i*batch\n",
    "    end = (i+1)*batch\n",
    "    data_name = \"./processed_data/reshape_labels\"+\"_\"+str(start)+\"_\"+str(end)\n",
    "    np.save(data_name, reshape_labels[start:end])"
   ]
  }
 ],
 "metadata": {
  "colab": {
   "collapsed_sections": [],
   "name": "data_process.ipynb",
   "provenance": []
  },
  "kernelspec": {
   "display_name": "Python 3",
   "language": "python",
   "name": "python3"
  },
  "language_info": {
   "codemirror_mode": {
    "name": "ipython",
    "version": 3
   },
   "file_extension": ".py",
   "mimetype": "text/x-python",
   "name": "python",
   "nbconvert_exporter": "python",
   "pygments_lexer": "ipython3",
   "version": "3.5.6"
  }
 },
 "nbformat": 4,
 "nbformat_minor": 1
}
